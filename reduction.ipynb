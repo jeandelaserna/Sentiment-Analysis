{
  "nbformat": 4,
  "nbformat_minor": 0,
  "metadata": {
    "colab": {
      "name": "reduction.ipynb",
      "provenance": [],
      "collapsed_sections": [],
      "toc_visible": true
    },
    "kernelspec": {
      "name": "python3",
      "display_name": "Python 3"
    },
    "accelerator": "GPU"
  },
  "cells": [
    {
      "cell_type": "markdown",
      "metadata": {
        "id": "8pxCq1I7sZyW",
        "colab_type": "text"
      },
      "source": [
        "#REDUCTION DE LA DIMENTION DU DATASET\n",
        "\n",
        "Nous allons ici comparer trois manières de reduire un dataset:\n",
        "* Par mostimportantfeature comme dans le notebook Analyse_de_sentiment.\n",
        "* En reduisant nos resultat avec un auto encodeur.\n",
        "* En recuperant la sortie de la dernière couche cachée d'un reseau de neuronne classifiant des tweets selon les classe positif, negatif, neutre."
      ]
    },
    {
      "cell_type": "markdown",
      "metadata": {
        "id": "rGYdooNnvMbl",
        "colab_type": "text"
      },
      "source": [
        "##Les Imports et Fonctions"
      ]
    },
    {
      "cell_type": "code",
      "metadata": {
        "id": "FiVfpYzBvzAC",
        "colab_type": "code",
        "colab": {}
      },
      "source": [
        "import matplotlib.pyplot as plt\n",
        "\n",
        "from nltk import NaiveBayesClassifier\n",
        "\n",
        "from sklearn import metrics\n",
        "\n",
        "from sklearn.neural_network import MLPClassifier\n",
        "from sklearn.svm import SVC\n",
        "from sklearn.naive_bayes import MultinomialNB, GaussianNB\n",
        "from sklearn.tree import DecisionTreeClassifier\n",
        "from sklearn.feature_extraction.text import CountVectorizer\n",
        "\n",
        "from tensorflow.keras.layers import Input, Dense, BatchNormalization\n",
        "from tensorflow.keras.models import Model\n",
        "from tensorflow import keras\n",
        "from keras.optimizers import RMSprop\n",
        "\n",
        "import pandas as pd\n"
      ],
      "execution_count": null,
      "outputs": []
    },
    {
      "cell_type": "code",
      "metadata": {
        "id": "FxwckGvp-2z5",
        "colab_type": "code",
        "colab": {
          "base_uri": "https://localhost:8080/",
          "height": 202
        },
        "outputId": "ff734b46-41ce-4c44-d053-8b4a4016041f"
      },
      "source": [
        "import nltk\n",
        "from nltk.stem.wordnet import WordNetLemmatizer\n",
        "from nltk.corpus import twitter_samples, stopwords\n",
        "from nltk.tag import pos_tag\n",
        "from nltk.tokenize import word_tokenize\n",
        "\n",
        "import re, string, random\n",
        "import numpy as np\n",
        "\n",
        "nltk.download('twitter_samples')\n",
        "nltk.download('stopwords')\n",
        "nltk.download('averaged_perceptron_tagger')\n",
        "nltk.download('wordnet')\n",
        "nltk.download('punkt')\n",
        "\n",
        "stop_words = stopwords.words('english')\n",
        "\n",
        "positive_tweet_tokens = twitter_samples.tokenized('positive_tweets.json')\n",
        "negative_tweet_tokens = twitter_samples.tokenized('negative_tweets.json')\n",
        "neutral_tweet_tokens = np.random.choice(twitter_samples.tokenized('tweets.20150430-223406.json'),size=len(negative_tweet_tokens),replace = False)\n",
        "\n",
        "def remove_noise(tweet_tokens, stop_words = ()): \n",
        "\n",
        "    cleaned_tokens = []\n",
        "\n",
        "    for token, tag in pos_tag(tweet_tokens):\n",
        "        token = re.sub('http[s]?://(?:[a-zA-Z]|[0-9]|[$-_@.&+#]|[!*\\(\\),]|'\\\n",
        "                       '(?:%[0-9a-fA-F][0-9a-fA-F]))+','', token)\n",
        "        token = re.sub(\"(@[A-Za-z0-9_]+)\",\"\", token)\n",
        "\n",
        "        if tag.startswith(\"NN\"):\n",
        "            pos = 'n'\n",
        "        elif tag.startswith('VB'):\n",
        "            pos = 'v'\n",
        "        else:\n",
        "            pos = 'a'\n",
        "\n",
        "        lemmatizer = WordNetLemmatizer()\n",
        "        token = lemmatizer.lemmatize(token, pos)\n",
        "\n",
        "        if len(token) > 0 and token not in string.punctuation and token.lower() not in stop_words:\n",
        "            cleaned_tokens.append(token.lower())\n",
        "    return cleaned_tokens\n",
        "\n",
        "\n",
        "def get_tweets_for_model(cleaned_tokens_list):\n",
        "    for tweet_tokens in cleaned_tokens_list:\n",
        "        yield dict([token, True] for token in tweet_tokens)\n",
        "\n",
        "def make_set( tweet_tokens, label=\"\", stop_words = () ) :\n",
        "    cleaned_tokens_list = []\n",
        "    for tokens in tweet_tokens:\n",
        "        cleaned_tokens_list.append(remove_noise(tokens, stop_words))\n",
        "\n",
        "    tokens_for_model = get_tweets_for_model(cleaned_tokens_list)\n",
        "    dataset = [(tweet_dict, label)for tweet_dict in tokens_for_model]\n",
        "    return dataset\n",
        "\n",
        "\n",
        "positive_dataset = make_set( positive_tweet_tokens, label=\"Positive\", stop_words = stop_words )\n",
        "negative_dataset = make_set( negative_tweet_tokens, label=\"Negative\", stop_words = stop_words )\n",
        "neutral_dataset = make_set( neutral_tweet_tokens, label=\"Neutral\", stop_words = stop_words )\n",
        "\n",
        "dataset = positive_dataset + negative_dataset + neutral_dataset\n",
        "random.shuffle(dataset)"
      ],
      "execution_count": null,
      "outputs": [
        {
          "output_type": "stream",
          "text": [
            "[nltk_data] Downloading package twitter_samples to /root/nltk_data...\n",
            "[nltk_data]   Unzipping corpora/twitter_samples.zip.\n",
            "[nltk_data] Downloading package stopwords to /root/nltk_data...\n",
            "[nltk_data]   Unzipping corpora/stopwords.zip.\n",
            "[nltk_data] Downloading package averaged_perceptron_tagger to\n",
            "[nltk_data]     /root/nltk_data...\n",
            "[nltk_data]   Unzipping taggers/averaged_perceptron_tagger.zip.\n",
            "[nltk_data] Downloading package wordnet to /root/nltk_data...\n",
            "[nltk_data]   Unzipping corpora/wordnet.zip.\n",
            "[nltk_data] Downloading package punkt to /root/nltk_data...\n",
            "[nltk_data]   Unzipping tokenizers/punkt.zip.\n"
          ],
          "name": "stdout"
        }
      ]
    },
    {
      "cell_type": "code",
      "metadata": {
        "id": "eDd-E6fm-pDE",
        "colab_type": "code",
        "colab": {}
      },
      "source": [
        "def to_numpy(dataset,vocab=None):\n",
        "\n",
        "    V = [] #vacobulaire\n",
        "    Data = [] #features\n",
        "    C = [] #classe\n",
        "\n",
        "    if vocab==None:\n",
        "\n",
        "#vacobulaire     \n",
        "      for tweet in dataset:\n",
        "        for token in tweet[0].keys():\n",
        "          V.append(token)\n",
        "      V = np.unique(V)\n",
        "\n",
        "      for tweet in dataset:\n",
        "#features\n",
        "        x = np.zeros(V.shape)\n",
        "        for token in tweet[0].keys():\n",
        "          x += (token == V)\n",
        "        Data.append(x)\n",
        "#classe\n",
        "        if tweet[1] == 'Positive':\n",
        "          C.append([1,0,0])\n",
        "        elif tweet[1] == 'Negative':\n",
        "          C.append([0,1,0])\n",
        "        else :\n",
        "          C.append([0,0,1])\n",
        "\n",
        "    else:\n",
        "      V = np.array(vocab)\n",
        "      for tweet in dataset:\n",
        "  #features\n",
        "        x = np.zeros(V.shape)\n",
        "        for token in tweet[0].keys():\n",
        "          x += (token == V)\n",
        "        Data.append(x)\n",
        "  #classe\n",
        "        if tweet[1] == 'Positive':\n",
        "          C.append([1,0,0])\n",
        "        elif tweet[1] == 'Negative':\n",
        "          C.append([0,1,0])\n",
        "        else :\n",
        "          C.append([0,0,1])\n",
        "\n",
        "    \n",
        "    Xtrain = Data[:11000]\n",
        "    Xtest = Data[11000:]\n",
        "    Xtrain = (np.array(Xtrain)!=0) *1\n",
        "    Xtest = (np.array(Xtest)!=0) *1\n",
        "\n",
        "    Ytrain = np.array(C[:11000])\n",
        "    Ytest = np.array(C[11000:])\n",
        "\n",
        "    return Xtest,Xtrain,Ytest,Ytrain,V"
      ],
      "execution_count": null,
      "outputs": []
    },
    {
      "cell_type": "markdown",
      "metadata": {
        "id": "PYcE5JxxSb9S",
        "colab_type": "text"
      },
      "source": [
        "# reduction avec most important feature"
      ]
    },
    {
      "cell_type": "markdown",
      "metadata": {
        "id": "MdDdJsKMTsWi",
        "colab_type": "text"
      },
      "source": [
        "###la reduction"
      ]
    },
    {
      "cell_type": "code",
      "metadata": {
        "id": "n4UmY7sw_0F4",
        "colab_type": "code",
        "colab": {}
      },
      "source": [
        "clf_sentiment = NaiveBayesClassifier.train(dataset[:11000]) \n",
        "MIF = [a[0] for a in clf_sentiment.most_informative_features(n=150)]\n",
        "\n",
        "Xtest,Xtrain,Ytest,Ytrain,V = to_numpy(dataset,vocab=MIF)\n",
        "Ytest,Ytrain = (Ytest[:,0]==1)*1+(Ytest[:,1]==1)*2+(Ytest[:,2]==1)*3, (Ytrain[:,0]==1)*1+(Ytrain[:,1]==1)*2+(Ytrain[:,2]==1)*3"
      ],
      "execution_count": null,
      "outputs": []
    },
    {
      "cell_type": "markdown",
      "metadata": {
        "id": "z8PSoVB4TvIO",
        "colab_type": "text"
      },
      "source": [
        "###le test"
      ]
    },
    {
      "cell_type": "code",
      "metadata": {
        "id": "rYC7I6PVJLOG",
        "colab_type": "code",
        "colab": {}
      },
      "source": [
        "CL = [MultinomialNB(),\n",
        "      DecisionTreeClassifier(max_depth=4),\n",
        "      DecisionTreeClassifier(max_depth=8),\n",
        "      SVC(),\n",
        "      MLPClassifier(hidden_layer_sizes=(10),max_iter=5000),\n",
        "      MLPClassifier(hidden_layer_sizes=(10,10),max_iter=5000),\n",
        "      MLPClassifier(hidden_layer_sizes=(10,10,10,10,10),max_iter=5000), ]\n",
        "\n",
        "NCL = ['NaiveBayesClassifier',\n",
        "       'DecisionTreeClassifier profondeur 4',\n",
        "       'DecisionTreeClassifier profondeur 8',\n",
        "       'SVC kernel rbf',\n",
        "       'MLPClassifier 1 couche cachée',\n",
        "       'MLPClassifier 2 couches cachées',\n",
        "       'MLPClassifier 5 couches cachées',]\n",
        "\n",
        "R = []\n",
        "\n",
        "for i in range(len(NCL)):\n",
        "\n",
        "    clf = CL[i]\n",
        "    name = NCL[i]\n",
        "    \n",
        "    clf_sentiment = clf.fit(Xtrain,Ytrain)\n",
        "    \n",
        "    y_pred = clf_sentiment.predict(Xtest)\n",
        "\n",
        "    d = metrics.classification_report(Ytest,y_pred,output_dict=True )\n",
        "\n",
        "    r = []\n",
        "\n",
        "    r.append(name)\n",
        "\n",
        "    r.append(d['1']['f1-score'] )\n",
        "    r.append(d['1']['precision'] )\n",
        "    r.append(d['1']['recall'] )\n",
        "  \n",
        "    r.append(d['2']['f1-score'] )\n",
        "    r.append(d['2']['precision'] )\n",
        "    r.append(d['2']['recall'] )\n",
        "\n",
        "    r.append(d['3']['f1-score'] )\n",
        "    r.append(d['3']['precision'] )\n",
        "    r.append(d['3']['recall'] )\n",
        "\n",
        "    R.append(r)\n"
      ],
      "execution_count": null,
      "outputs": []
    },
    {
      "cell_type": "code",
      "metadata": {
        "id": "pPO2kVNVPD4w",
        "colab_type": "code",
        "colab": {
          "base_uri": "https://localhost:8080/",
          "height": 338
        },
        "outputId": "03fe963b-1c2b-491d-c1ed-3381b1257a4e"
      },
      "source": [
        "R = pd.DataFrame(R)\n",
        "R.rename(columns= {0: 'clf name', 1: 'pos f1-score', 2:'pos precision',3:'pos recall',\n",
        "                                    4: 'neg f1-score', 5:'neg precision',6:'neg recall',\n",
        "                                    7: 'neu f1-score', 8:'neu precision',9:'neu recall'}, inplace = True)\n",
        "R"
      ],
      "execution_count": null,
      "outputs": [
        {
          "output_type": "execute_result",
          "data": {
            "text/html": [
              "<div>\n",
              "<style scoped>\n",
              "    .dataframe tbody tr th:only-of-type {\n",
              "        vertical-align: middle;\n",
              "    }\n",
              "\n",
              "    .dataframe tbody tr th {\n",
              "        vertical-align: top;\n",
              "    }\n",
              "\n",
              "    .dataframe thead th {\n",
              "        text-align: right;\n",
              "    }\n",
              "</style>\n",
              "<table border=\"1\" class=\"dataframe\">\n",
              "  <thead>\n",
              "    <tr style=\"text-align: right;\">\n",
              "      <th></th>\n",
              "      <th>clf name</th>\n",
              "      <th>pos f1-score</th>\n",
              "      <th>pos precision</th>\n",
              "      <th>pos recall</th>\n",
              "      <th>neg f1-score</th>\n",
              "      <th>neg precision</th>\n",
              "      <th>neg recall</th>\n",
              "      <th>neu f1-score</th>\n",
              "      <th>neu precision</th>\n",
              "      <th>neu recall</th>\n",
              "    </tr>\n",
              "  </thead>\n",
              "  <tbody>\n",
              "    <tr>\n",
              "      <th>0</th>\n",
              "      <td>NaiveBayesClassifier</td>\n",
              "      <td>0.906490</td>\n",
              "      <td>0.839690</td>\n",
              "      <td>0.984837</td>\n",
              "      <td>0.946084</td>\n",
              "      <td>0.991749</td>\n",
              "      <td>0.904439</td>\n",
              "      <td>0.940224</td>\n",
              "      <td>0.982272</td>\n",
              "      <td>0.901627</td>\n",
              "    </tr>\n",
              "    <tr>\n",
              "      <th>1</th>\n",
              "      <td>DecisionTreeClassifier profondeur 4</td>\n",
              "      <td>0.918609</td>\n",
              "      <td>0.997336</td>\n",
              "      <td>0.851403</td>\n",
              "      <td>0.941458</td>\n",
              "      <td>1.000000</td>\n",
              "      <td>0.889391</td>\n",
              "      <td>0.886334</td>\n",
              "      <td>0.797281</td>\n",
              "      <td>0.997781</td>\n",
              "    </tr>\n",
              "    <tr>\n",
              "      <th>2</th>\n",
              "      <td>DecisionTreeClassifier profondeur 8</td>\n",
              "      <td>0.933871</td>\n",
              "      <td>0.997416</td>\n",
              "      <td>0.877938</td>\n",
              "      <td>0.941458</td>\n",
              "      <td>1.000000</td>\n",
              "      <td>0.889391</td>\n",
              "      <td>0.896643</td>\n",
              "      <td>0.814122</td>\n",
              "      <td>0.997781</td>\n",
              "    </tr>\n",
              "    <tr>\n",
              "      <th>3</th>\n",
              "      <td>SVC kernel rbf</td>\n",
              "      <td>0.946288</td>\n",
              "      <td>0.987634</td>\n",
              "      <td>0.908264</td>\n",
              "      <td>0.945124</td>\n",
              "      <td>0.994186</td>\n",
              "      <td>0.900677</td>\n",
              "      <td>0.915843</td>\n",
              "      <td>0.849021</td>\n",
              "      <td>0.994083</td>\n",
              "    </tr>\n",
              "    <tr>\n",
              "      <th>4</th>\n",
              "      <td>MLPClassifier 1 couche cachée</td>\n",
              "      <td>0.947119</td>\n",
              "      <td>0.987654</td>\n",
              "      <td>0.909780</td>\n",
              "      <td>0.943352</td>\n",
              "      <td>0.988458</td>\n",
              "      <td>0.902182</td>\n",
              "      <td>0.915869</td>\n",
              "      <td>0.851781</td>\n",
              "      <td>0.990385</td>\n",
              "    </tr>\n",
              "    <tr>\n",
              "      <th>5</th>\n",
              "      <td>MLPClassifier 2 couches cachées</td>\n",
              "      <td>0.906108</td>\n",
              "      <td>0.839586</td>\n",
              "      <td>0.984079</td>\n",
              "      <td>0.940761</td>\n",
              "      <td>0.982787</td>\n",
              "      <td>0.902182</td>\n",
              "      <td>0.939675</td>\n",
              "      <td>0.984603</td>\n",
              "      <td>0.898669</td>\n",
              "    </tr>\n",
              "    <tr>\n",
              "      <th>6</th>\n",
              "      <td>MLPClassifier 5 couches cachées</td>\n",
              "      <td>0.944664</td>\n",
              "      <td>0.986788</td>\n",
              "      <td>0.905989</td>\n",
              "      <td>0.941176</td>\n",
              "      <td>0.982801</td>\n",
              "      <td>0.902935</td>\n",
              "      <td>0.913014</td>\n",
              "      <td>0.850128</td>\n",
              "      <td>0.985947</td>\n",
              "    </tr>\n",
              "  </tbody>\n",
              "</table>\n",
              "</div>"
            ],
            "text/plain": [
              "                              clf name  pos f1-score  ...  neu precision  neu recall\n",
              "0                 NaiveBayesClassifier      0.906490  ...       0.982272    0.901627\n",
              "1  DecisionTreeClassifier profondeur 4      0.918609  ...       0.797281    0.997781\n",
              "2  DecisionTreeClassifier profondeur 8      0.933871  ...       0.814122    0.997781\n",
              "3                       SVC kernel rbf      0.946288  ...       0.849021    0.994083\n",
              "4        MLPClassifier 1 couche cachée      0.947119  ...       0.851781    0.990385\n",
              "5      MLPClassifier 2 couches cachées      0.906108  ...       0.984603    0.898669\n",
              "6      MLPClassifier 5 couches cachées      0.944664  ...       0.850128    0.985947\n",
              "\n",
              "[7 rows x 10 columns]"
            ]
          },
          "metadata": {
            "tags": []
          },
          "execution_count": 6
        }
      ]
    },
    {
      "cell_type": "markdown",
      "metadata": {
        "id": "zfYXV-lpAXm1",
        "colab_type": "text"
      },
      "source": [
        "#reduction avec auto encodeur\n",
        "\n",
        "Un autoencodeur et un reseau de neuronne specifique composé de 2 sous reseau une appellé encodeur, l'autre décodeur et la sortie du premier est l'entrée du second.\n",
        "\n",
        "Le but de cette construction est de pouvoir predire l'entrée, c'est dire que l'entré et la sotie de l'autoencodeur sois les plus proche possible. Ainsi pour l'entrainement on entraine en meme temps et d'un seul bloc l'encodeur et le decodeur.\n",
        "\n",
        "Or si on choisi une dimention plus faible alors la sortie de l'encodeur(et donc l'entrée du decodeur) on met une contraine pour faire passer le plus d'information avec une dimension reduite on \"compresse\" nos données.\n",
        "\n",
        "De cette manière une des utilisations classiques des autoencodeurs est la reduction de dimention."
      ]
    },
    {
      "cell_type": "code",
      "metadata": {
        "id": "u3LcujeaHV65",
        "colab_type": "code",
        "colab": {}
      },
      "source": [
        "Xtest,Xtrain,Ytest,Ytrain,V = to_numpy(dataset)"
      ],
      "execution_count": null,
      "outputs": []
    },
    {
      "cell_type": "code",
      "metadata": {
        "id": "ejA7Sb2KGhxe",
        "colab_type": "code",
        "colab": {}
      },
      "source": [
        "N,nb_words = Xtrain.shape"
      ],
      "execution_count": null,
      "outputs": []
    },
    {
      "cell_type": "markdown",
      "metadata": {
        "id": "9HHngE_CWx9o",
        "colab_type": "text"
      },
      "source": [
        "pour éviter de refaire l'apprentisage :\n",
        "* reduc_encode.h5 et reduc_part0.h5 pour l'encodeur et le reseau pré-entrainé à utiliser avec :\n",
        "\n",
        "      model = load_model('model.h5')\n",
        "\n",
        "\n",
        "* Et vocab_reduc_encode.txt et vocab_reduc_part0.txt pour le vocabulaire à utilser avec le modele à utiliser avec :\n",
        "\n",
        "\n",
        "    import pickle\n",
        "    with open(\"vocab.txt\", \"rb\") as f:\n",
        "        V = pickle.load(f)\n"
      ]
    },
    {
      "cell_type": "markdown",
      "metadata": {
        "id": "k0nGish5TdbU",
        "colab_type": "text"
      },
      "source": [
        "### la reduction"
      ]
    },
    {
      "cell_type": "code",
      "metadata": {
        "id": "H6NgOBUcCfsT",
        "colab_type": "code",
        "colab": {
          "base_uri": "https://localhost:8080/",
          "height": 420
        },
        "outputId": "9607d506-466d-47c4-c869-8c7dd1cf72e2"
      },
      "source": [
        "n=150\n",
        "\n",
        "W0 = Input(shape=( nb_words ))\n",
        "x = Dense(1000,activation='relu')(W0)\n",
        "x = Dense(n ,activation='relu')(x)\n",
        "x = Dense(n ,activation='relu')(x)\n",
        "x = BatchNormalization()(x)\n",
        "x = Dense(n,activation='relu')(x)\n",
        "enc = Dense(n,activation='relu')(x)\n",
        "encoder = Model(W0,enc)\n",
        "\n",
        "W1 = Input(shape=( n ))\n",
        "x = Dense(n,activation='relu')(W1)\n",
        "x = Dense(n,activation='relu')(x)\n",
        "x = BatchNormalization()(x)\n",
        "x = Dense(n,activation='relu')(x)\n",
        "x = Dense(n,activation='relu')(x)\n",
        "x = Dense(1000,activation='relu')(x)\n",
        "dec = Dense( nb_words ,activation='tanh')(x)\n",
        "decoder = Model(W1,dec)\n",
        "\n",
        "autoencoder = Model(inputs=encoder.input, outputs=decoder(encoder.output))\n",
        "\n",
        "autoencoder.summary()"
      ],
      "execution_count": null,
      "outputs": [
        {
          "output_type": "stream",
          "text": [
            "Model: \"functional_5\"\n",
            "_________________________________________________________________\n",
            "Layer (type)                 Output Shape              Param #   \n",
            "=================================================================\n",
            "input_1 (InputLayer)         [(None, 15240)]           0         \n",
            "_________________________________________________________________\n",
            "dense (Dense)                (None, 1000)              15241000  \n",
            "_________________________________________________________________\n",
            "dense_1 (Dense)              (None, 150)               150150    \n",
            "_________________________________________________________________\n",
            "dense_2 (Dense)              (None, 150)               22650     \n",
            "_________________________________________________________________\n",
            "batch_normalization (BatchNo (None, 150)               600       \n",
            "_________________________________________________________________\n",
            "dense_3 (Dense)              (None, 150)               22650     \n",
            "_________________________________________________________________\n",
            "dense_4 (Dense)              (None, 150)               22650     \n",
            "_________________________________________________________________\n",
            "functional_3 (Functional)    (None, 15240)             15497440  \n",
            "=================================================================\n",
            "Total params: 30,957,140\n",
            "Trainable params: 30,956,540\n",
            "Non-trainable params: 600\n",
            "_________________________________________________________________\n"
          ],
          "name": "stdout"
        }
      ]
    },
    {
      "cell_type": "code",
      "metadata": {
        "id": "LnAEF38SKMxy",
        "colab_type": "code",
        "colab": {}
      },
      "source": [
        "opt = keras.optimizers.RMSprop(learning_rate=0.00001)\n",
        "\n",
        "autoencoder.compile(loss='MAE',\n",
        "              optimizer=opt,)\n",
        "\n",
        "history = autoencoder.fit(x = Xtrain,\n",
        "                      y = Xtrain,\n",
        "                      epochs=2400,steps_per_epoch=1,batch_size=100,\n",
        "                      verbose=0,\n",
        "                      validation_data=(Xtest,Xtest))\n"
      ],
      "execution_count": null,
      "outputs": []
    },
    {
      "cell_type": "code",
      "metadata": {
        "id": "fYSUlRL2Os6r",
        "colab_type": "code",
        "colab": {
          "base_uri": "https://localhost:8080/",
          "height": 285
        },
        "outputId": "97c48d26-c3e7-4a79-dc0e-78d7298eca4d"
      },
      "source": [
        "plt.loglog(history.history['loss'],label='loss')\n",
        "plt.loglog(history.history['val_loss'],label='val_loss')\n",
        "plt.title('loss du modele en fontion des epoch')\n",
        "plt.legend()\n",
        "plt.show()"
      ],
      "execution_count": null,
      "outputs": [
        {
          "output_type": "display_data",
          "data": {
            "image/png": "[encoded data removed]",
            "text/plain": [
              "<Figure size 432x288 with 1 Axes>"
            ]
          },
          "metadata": {
            "tags": [],
            "needs_background": "light"
          }
        }
      ]
    },
    {
      "cell_type": "code",
      "metadata": {
        "id": "Ihzz9AxTT_d0",
        "colab_type": "code",
        "colab": {}
      },
      "source": [
        "Xtest_red,Xtrain_red = encoder(Xtest),encoder(Xtrain)"
      ],
      "execution_count": null,
      "outputs": []
    },
    {
      "cell_type": "code",
      "metadata": {
        "id": "Znz3qGu0VSqt",
        "colab_type": "code",
        "colab": {}
      },
      "source": [
        "Xtest_red,Xtrain_red = np.array(Xtest_red),np.array(Xtrain_red)\n",
        "Ytest,Ytrain = (Ytest[:,0]==1)*1+(Ytest[:,1]==1)*2+(Ytest[:,2]==1)*3, (Ytrain[:,0]==1)*1+(Ytrain[:,1]==1)*2+(Ytrain[:,2]==1)*3"
      ],
      "execution_count": null,
      "outputs": []
    },
    {
      "cell_type": "code",
      "metadata": {
        "id": "yWc7_8pOTiNC",
        "colab_type": "code",
        "colab": {}
      },
      "source": [
        "import pickle\n",
        "\n",
        "with open(\"vocab_reduc_encoder.txt\", \"wb\") as f: \n",
        "  pickle.dump(list(V),f)\n",
        "\n",
        "encoder.save(filepath = 'reduc_encoder.h5')"
      ],
      "execution_count": null,
      "outputs": []
    },
    {
      "cell_type": "markdown",
      "metadata": {
        "id": "meJMrLLPTjvk",
        "colab_type": "text"
      },
      "source": [
        "###le test\n",
        "\n",
        "Dans ce test là nous remplacons le classifieur naive Bayes par le naive Bayes gaussien qui est adapté au valeur de sortie de l'encodeur. Nos features ne sont plus booleene, ainsi ont fait l'hypothese quelle suivent une gaussienne.\n",
        "\n"
      ]
    },
    {
      "cell_type": "code",
      "metadata": {
        "id": "KuCxFfvtTiDz",
        "colab_type": "code",
        "colab": {}
      },
      "source": [
        "CL = [GaussianNB(),\n",
        "      DecisionTreeClassifier(max_depth=4),\n",
        "      DecisionTreeClassifier(max_depth=8),\n",
        "      SVC(),\n",
        "      MLPClassifier(hidden_layer_sizes=(10),max_iter=5000),\n",
        "      MLPClassifier(hidden_layer_sizes=(10,10),max_iter=5000),\n",
        "      MLPClassifier(hidden_layer_sizes=(10,10,10,10,10),max_iter=5000), ]\n",
        "\n",
        "NCL = ['GaussianNB',\n",
        "       'DecisionTreeClassifier profondeur 4',\n",
        "       'DecisionTreeClassifier profondeur 8',\n",
        "       'SVC kernel rbf',\n",
        "       'MLPClassifier 1 couche cachée',\n",
        "       'MLPClassifier 2 couches cachées',\n",
        "       'MLPClassifier 5 couches cachées',]\n",
        "\n",
        "R = []\n",
        "\n",
        "for i in range(len(NCL)):\n",
        "\n",
        "    clf = CL[i]\n",
        "    name = NCL[i]\n",
        "    \n",
        "    clf_sentiment = clf.fit(Xtrain_red,Ytrain)\n",
        "    \n",
        "    y_pred = clf_sentiment.predict(Xtest_red)\n",
        "\n",
        "    d = metrics.classification_report(Ytest,y_pred,output_dict=True )\n",
        "\n",
        "    r = []\n",
        "\n",
        "    r.append(name)\n",
        "\n",
        "    r.append(d['1']['f1-score'] )\n",
        "    r.append(d['1']['precision'] )\n",
        "    r.append(d['1']['recall'] )\n",
        "  \n",
        "    r.append(d['2']['f1-score'] )\n",
        "    r.append(d['2']['precision'] )\n",
        "    r.append(d['2']['recall'] )\n",
        "\n",
        "    r.append(d['3']['f1-score'] )\n",
        "    r.append(d['3']['precision'] )\n",
        "    r.append(d['3']['recall'] )\n",
        "\n",
        "    R.append(r)\n"
      ],
      "execution_count": null,
      "outputs": []
    },
    {
      "cell_type": "code",
      "metadata": {
        "id": "FFyxnEnwU5Jq",
        "colab_type": "code",
        "colab": {
          "base_uri": "https://localhost:8080/",
          "height": 338
        },
        "outputId": "659fe97c-b225-4832-95b9-e1761997460c"
      },
      "source": [
        "R = pd.DataFrame(R)\n",
        "R.rename(columns= {0: 'clf name', 1: 'pos f1-score', 2:'pos precision',3:'pos recall',\n",
        "                                    4: 'neg f1-score', 5:'neg precision',6:'neg recall',\n",
        "                                    7: 'neu f1-score', 8:'neu precision',9:'neu recall'}, inplace = True)\n",
        "R"
      ],
      "execution_count": null,
      "outputs": [
        {
          "output_type": "execute_result",
          "data": {
            "text/html": [
              "<div>\n",
              "<style scoped>\n",
              "    .dataframe tbody tr th:only-of-type {\n",
              "        vertical-align: middle;\n",
              "    }\n",
              "\n",
              "    .dataframe tbody tr th {\n",
              "        vertical-align: top;\n",
              "    }\n",
              "\n",
              "    .dataframe thead th {\n",
              "        text-align: right;\n",
              "    }\n",
              "</style>\n",
              "<table border=\"1\" class=\"dataframe\">\n",
              "  <thead>\n",
              "    <tr style=\"text-align: right;\">\n",
              "      <th></th>\n",
              "      <th>clf name</th>\n",
              "      <th>pos f1-score</th>\n",
              "      <th>pos precision</th>\n",
              "      <th>pos recall</th>\n",
              "      <th>neg f1-score</th>\n",
              "      <th>neg precision</th>\n",
              "      <th>neg recall</th>\n",
              "      <th>neu f1-score</th>\n",
              "      <th>neu precision</th>\n",
              "      <th>neu recall</th>\n",
              "    </tr>\n",
              "  </thead>\n",
              "  <tbody>\n",
              "    <tr>\n",
              "      <th>0</th>\n",
              "      <td>GaussianNB</td>\n",
              "      <td>0.105452</td>\n",
              "      <td>0.251429</td>\n",
              "      <td>0.066717</td>\n",
              "      <td>0.539972</td>\n",
              "      <td>0.391658</td>\n",
              "      <td>0.869074</td>\n",
              "      <td>0.434486</td>\n",
              "      <td>0.636234</td>\n",
              "      <td>0.329882</td>\n",
              "    </tr>\n",
              "    <tr>\n",
              "      <th>1</th>\n",
              "      <td>DecisionTreeClassifier profondeur 4</td>\n",
              "      <td>0.152948</td>\n",
              "      <td>0.332487</td>\n",
              "      <td>0.099318</td>\n",
              "      <td>0.499322</td>\n",
              "      <td>0.454097</td>\n",
              "      <td>0.554552</td>\n",
              "      <td>0.597301</td>\n",
              "      <td>0.502269</td>\n",
              "      <td>0.736686</td>\n",
              "    </tr>\n",
              "    <tr>\n",
              "      <th>2</th>\n",
              "      <td>DecisionTreeClassifier profondeur 8</td>\n",
              "      <td>0.188181</td>\n",
              "      <td>0.386792</td>\n",
              "      <td>0.124337</td>\n",
              "      <td>0.496134</td>\n",
              "      <td>0.448360</td>\n",
              "      <td>0.555305</td>\n",
              "      <td>0.592322</td>\n",
              "      <td>0.503627</td>\n",
              "      <td>0.718935</td>\n",
              "    </tr>\n",
              "    <tr>\n",
              "      <th>3</th>\n",
              "      <td>SVC kernel rbf</td>\n",
              "      <td>0.072752</td>\n",
              "      <td>0.384058</td>\n",
              "      <td>0.040182</td>\n",
              "      <td>0.540178</td>\n",
              "      <td>0.396479</td>\n",
              "      <td>0.847254</td>\n",
              "      <td>0.525695</td>\n",
              "      <td>0.610568</td>\n",
              "      <td>0.461538</td>\n",
              "    </tr>\n",
              "    <tr>\n",
              "      <th>4</th>\n",
              "      <td>MLPClassifier 1 couche cachée</td>\n",
              "      <td>0.159903</td>\n",
              "      <td>0.397590</td>\n",
              "      <td>0.100076</td>\n",
              "      <td>0.528668</td>\n",
              "      <td>0.433880</td>\n",
              "      <td>0.676448</td>\n",
              "      <td>0.592266</td>\n",
              "      <td>0.546992</td>\n",
              "      <td>0.645710</td>\n",
              "    </tr>\n",
              "    <tr>\n",
              "      <th>5</th>\n",
              "      <td>MLPClassifier 2 couches cachées</td>\n",
              "      <td>0.236402</td>\n",
              "      <td>0.381113</td>\n",
              "      <td>0.171342</td>\n",
              "      <td>0.530016</td>\n",
              "      <td>0.451750</td>\n",
              "      <td>0.641084</td>\n",
              "      <td>0.576401</td>\n",
              "      <td>0.544379</td>\n",
              "      <td>0.612426</td>\n",
              "    </tr>\n",
              "    <tr>\n",
              "      <th>6</th>\n",
              "      <td>MLPClassifier 5 couches cachées</td>\n",
              "      <td>0.043259</td>\n",
              "      <td>0.441176</td>\n",
              "      <td>0.022745</td>\n",
              "      <td>0.516268</td>\n",
              "      <td>0.435977</td>\n",
              "      <td>0.632807</td>\n",
              "      <td>0.604471</td>\n",
              "      <td>0.506241</td>\n",
              "      <td>0.750000</td>\n",
              "    </tr>\n",
              "  </tbody>\n",
              "</table>\n",
              "</div>"
            ],
            "text/plain": [
              "                              clf name  pos f1-score  ...  neu precision  neu recall\n",
              "0                           GaussianNB      0.105452  ...       0.636234    0.329882\n",
              "1  DecisionTreeClassifier profondeur 4      0.152948  ...       0.502269    0.736686\n",
              "2  DecisionTreeClassifier profondeur 8      0.188181  ...       0.503627    0.718935\n",
              "3                       SVC kernel rbf      0.072752  ...       0.610568    0.461538\n",
              "4        MLPClassifier 1 couche cachée      0.159903  ...       0.546992    0.645710\n",
              "5      MLPClassifier 2 couches cachées      0.236402  ...       0.544379    0.612426\n",
              "6      MLPClassifier 5 couches cachées      0.043259  ...       0.506241    0.750000\n",
              "\n",
              "[7 rows x 10 columns]"
            ]
          },
          "metadata": {
            "tags": []
          },
          "execution_count": 15
        }
      ]
    },
    {
      "cell_type": "markdown",
      "metadata": {
        "id": "CAsUcy6Ea3XI",
        "colab_type": "text"
      },
      "source": [
        "#reduction avec reseau de neurone pré-entrainé\n",
        "\n",
        "Ici nous allons de la même manière que precedemment entrainer un reseau qui posede 2 sous reseau mais celui ci est entrainé à predire les classe positif negatif et neutre.\n",
        "\n",
        "On choisit la taille de notre reseau de telle manière qu'on reduise notre diemnsion en recuperant la sortie de l'avant dernier couche"
      ]
    },
    {
      "cell_type": "code",
      "metadata": {
        "id": "qrCefZgrXap0",
        "colab_type": "code",
        "colab": {}
      },
      "source": [
        "Xtest,Xtrain,Ytest,Ytrain,V = to_numpy(dataset)"
      ],
      "execution_count": null,
      "outputs": []
    },
    {
      "cell_type": "markdown",
      "metadata": {
        "id": "HRYdBXZwcMoX",
        "colab_type": "text"
      },
      "source": [
        "### la reduction"
      ]
    },
    {
      "cell_type": "code",
      "metadata": {
        "id": "Nlw7lGCLSHcA",
        "colab_type": "code",
        "colab": {
          "base_uri": "https://localhost:8080/",
          "height": 454
        },
        "outputId": "99327965-55da-49b6-9e95-0f9414e0a1bf"
      },
      "source": [
        "n=150\n",
        "\n",
        "W0 = Input(shape=( nb_words ))\n",
        "x = Dense(1500,activation='relu')(W0)\n",
        "x = Dense(500,activation='relu')(x)\n",
        "x = Dense(n,activation='relu')(x)\n",
        "x = Dense(n,activation='relu')(x)\n",
        "x = BatchNormalization()(x)\n",
        "x = Dense(n,activation='relu')(x)\n",
        "x = Dense(n,activation='relu')(x)\n",
        "part0 = Model(W0,x)\n",
        "\n",
        "W1 = Input(shape=( n ))\n",
        "x = Dense(3,activation='softmax')(W1)\n",
        "part1 = Model(W1,x)\n",
        "\n",
        "classif = Model(inputs=part0.input, outputs=part1(part0.output))\n",
        "\n",
        "classif.summary()"
      ],
      "execution_count": null,
      "outputs": [
        {
          "output_type": "stream",
          "text": [
            "Model: \"functional_11\"\n",
            "_________________________________________________________________\n",
            "Layer (type)                 Output Shape              Param #   \n",
            "=================================================================\n",
            "input_3 (InputLayer)         [(None, 15240)]           0         \n",
            "_________________________________________________________________\n",
            "dense_11 (Dense)             (None, 1500)              22861500  \n",
            "_________________________________________________________________\n",
            "dense_12 (Dense)             (None, 500)               750500    \n",
            "_________________________________________________________________\n",
            "dense_13 (Dense)             (None, 150)               75150     \n",
            "_________________________________________________________________\n",
            "dense_14 (Dense)             (None, 150)               22650     \n",
            "_________________________________________________________________\n",
            "batch_normalization_2 (Batch (None, 150)               600       \n",
            "_________________________________________________________________\n",
            "dense_15 (Dense)             (None, 150)               22650     \n",
            "_________________________________________________________________\n",
            "dense_16 (Dense)             (None, 150)               22650     \n",
            "_________________________________________________________________\n",
            "functional_9 (Functional)    (None, 3)                 453       \n",
            "=================================================================\n",
            "Total params: 23,756,153\n",
            "Trainable params: 23,755,853\n",
            "Non-trainable params: 300\n",
            "_________________________________________________________________\n"
          ],
          "name": "stdout"
        }
      ]
    },
    {
      "cell_type": "code",
      "metadata": {
        "id": "rzoA1XqEbByb",
        "colab_type": "code",
        "colab": {}
      },
      "source": [
        "opt = keras.optimizers.RMSprop(learning_rate=0.00001)\n",
        "\n",
        "classif.compile(loss='categorical_crossentropy',\n",
        "              optimizer=opt,\n",
        "              metrics=['accuracy','Recall'])\n",
        "\n",
        "history = classif.fit(x = Xtrain,\n",
        "                      y = Ytrain,\n",
        "                      epochs=800,steps_per_epoch=1,batch_size=100,\n",
        "                      verbose=0,\n",
        "                      validation_data=(Xtest,Ytest))"
      ],
      "execution_count": null,
      "outputs": []
    },
    {
      "cell_type": "code",
      "metadata": {
        "id": "umkaTiNShD9F",
        "colab_type": "code",
        "colab": {
          "base_uri": "https://localhost:8080/",
          "height": 360
        },
        "outputId": "c1d8f628-2cb3-4b57-80b0-224ba51ffa98"
      },
      "source": [
        "plt.figure(figsize = (20,5))\n",
        "\n",
        "plt.subplot(141)\n",
        "plt.loglog(history.history['loss'], label = 'loss' )\n",
        "plt.loglog(history.history['val_loss'] , label = 'val_loss')\n",
        "plt.title('loss du modele en fontion des epoch')\n",
        "plt.legend()\n",
        "\n",
        "plt.subplot(142)\n",
        "plt.plot(history.history['accuracy'] , label = 'accuracy')\n",
        "plt.plot(history.history['val_accuracy'] , label = 'val_accuracy')\n",
        "plt.legend()\n",
        "plt.title('accuracy du modele en fontion des epoch')\n",
        "\n",
        "plt.subplot(143)\n",
        "plt.plot(history.history['recall'], label = 'recall' )\n",
        "plt.plot(history.history['val_recall'] , label = 'val_recall')\n",
        "plt.legend()\n",
        "plt.title('recall du modele en fontion des epoch')\n",
        "\n",
        "plt.subplot(144)\n",
        "f = 2/( np.array(history.history['recall'])**-1 + np.array(history.history['accuracy'])**-1)\n",
        "plt.plot(f, label = 'f1-score' )\n",
        "f = 2/(np.array(history.history['val_recall'])**(-1) + np.array(history.history['val_accuracy'])**(-1))\n",
        "plt.plot(history.history['val_recall'] , label = 'f1-score_recall')\n",
        "plt.legend()\n",
        "plt.title('f1-score du modele en fontion des epoch')\n",
        "\n",
        "plt.show()"
      ],
      "execution_count": null,
      "outputs": [
        {
          "output_type": "stream",
          "text": [
            "/usr/local/lib/python3.6/dist-packages/ipykernel_launcher.py:22: RuntimeWarning: divide by zero encountered in reciprocal\n",
            "/usr/local/lib/python3.6/dist-packages/ipykernel_launcher.py:24: RuntimeWarning: divide by zero encountered in reciprocal\n"
          ],
          "name": "stderr"
        },
        {
          "output_type": "display_data",
          "data": {
            "image/png": "[encoded data removed]",
            "text/plain": [
              "<Figure size 1440x360 with 4 Axes>"
            ]
          },
          "metadata": {
            "tags": [],
            "needs_background": "light"
          }
        }
      ]
    },
    {
      "cell_type": "code",
      "metadata": {
        "id": "84Q761lFh7iU",
        "colab_type": "code",
        "colab": {}
      },
      "source": [
        "Xtrain_red = part0(Xtrain)\n",
        "Xtest_red = part0(Xtest)"
      ],
      "execution_count": null,
      "outputs": []
    },
    {
      "cell_type": "code",
      "metadata": {
        "colab_type": "code",
        "id": "JHd1Ymy7cg7Y",
        "colab": {}
      },
      "source": [
        "Xtest_red,Xtrain_red = np.array(Xtest_red),np.array(Xtrain_red)\n",
        "Ytest,Ytrain = (Ytest[:,0]==1)*1 + (Ytest[:,1]==1)*2 + (Ytest[:,2]==1)*3, (Ytrain[:,0]==1)*1+(Ytrain[:,1]==1)*2+(Ytrain[:,2]==1)*3"
      ],
      "execution_count": null,
      "outputs": []
    },
    {
      "cell_type": "code",
      "metadata": {
        "id": "uP2oa5USWP-m",
        "colab_type": "code",
        "colab": {}
      },
      "source": [
        "import pickle\n",
        "\n",
        "with open(\"vocab_reduc_part0.txt\", \"wb\") as f: \n",
        "  pickle.dump(list(V),f)"
      ],
      "execution_count": null,
      "outputs": []
    },
    {
      "cell_type": "code",
      "metadata": {
        "id": "5d77aGFTOVPF",
        "colab_type": "code",
        "colab": {}
      },
      "source": [
        "part0.save(filepath='reduc_part0.h5')"
      ],
      "execution_count": null,
      "outputs": []
    },
    {
      "cell_type": "markdown",
      "metadata": {
        "colab_type": "text",
        "id": "EAsKjcifcg7b"
      },
      "source": [
        "###le test"
      ]
    },
    {
      "cell_type": "code",
      "metadata": {
        "colab_type": "code",
        "id": "3L5Ie4_2cg7c",
        "colab": {}
      },
      "source": [
        "CL = [GaussianNB(),\n",
        "      DecisionTreeClassifier(max_depth=4),\n",
        "      DecisionTreeClassifier(max_depth=8),\n",
        "      SVC(),\n",
        "      MLPClassifier(hidden_layer_sizes=(10),max_iter=5000),\n",
        "      MLPClassifier(hidden_layer_sizes=(10,10),max_iter=5000),\n",
        "      MLPClassifier(hidden_layer_sizes=(10,10,10,10,10),max_iter=5000), ]\n",
        "\n",
        "NCL = ['GaussianNB',\n",
        "       'DecisionTreeClassifier profondeur 4',\n",
        "       'DecisionTreeClassifier profondeur 8',\n",
        "       'SVC kernel rbf',\n",
        "       'MLPClassifier 1 couche cachée',\n",
        "       'MLPClassifier 2 couches cachées',\n",
        "       'MLPClassifier 5 couches cachées',]\n",
        "\n",
        "R = []\n",
        "\n",
        "for i in range(len(NCL)):\n",
        "\n",
        "    clf = CL[i]\n",
        "    name = NCL[i]\n",
        "    \n",
        "    clf_sentiment = clf.fit(Xtrain_red,Ytrain)\n",
        "    \n",
        "    y_pred = clf_sentiment.predict(Xtest_red)\n",
        "\n",
        "    d = metrics.classification_report(Ytest,y_pred,output_dict=True )\n",
        "\n",
        "    r = []\n",
        "\n",
        "    r.append(name)\n",
        "\n",
        "    r.append(d['1']['f1-score'] )\n",
        "    r.append(d['1']['precision'] )\n",
        "    r.append(d['1']['recall'] )\n",
        "  \n",
        "    r.append(d['2']['f1-score'] )\n",
        "    r.append(d['2']['precision'] )\n",
        "    r.append(d['2']['recall'] )\n",
        "\n",
        "    r.append(d['3']['f1-score'] )\n",
        "    r.append(d['3']['precision'] )\n",
        "    r.append(d['3']['recall'] )\n",
        "\n",
        "    R.append(r)\n"
      ],
      "execution_count": null,
      "outputs": []
    },
    {
      "cell_type": "code",
      "metadata": {
        "colab_type": "code",
        "id": "X7-Wu-wUcg7e",
        "colab": {
          "base_uri": "https://localhost:8080/",
          "height": 338
        },
        "outputId": "b7cd17d6-cbc7-4d95-a85a-1f00fb883526"
      },
      "source": [
        "R = pd.DataFrame(R)\n",
        "R.rename(columns= {0: 'clf name', 1: 'pos f1-score', 2:'pos precision',3:'pos recall',\n",
        "                                    4: 'neg f1-score', 5:'neg precision',6:'neg recall',\n",
        "                                    7: 'neu f1-score', 8:'neu precision',9:'neu recall'}, inplace = True)\n",
        "R"
      ],
      "execution_count": null,
      "outputs": [
        {
          "output_type": "execute_result",
          "data": {
            "text/html": [
              "<div>\n",
              "<style scoped>\n",
              "    .dataframe tbody tr th:only-of-type {\n",
              "        vertical-align: middle;\n",
              "    }\n",
              "\n",
              "    .dataframe tbody tr th {\n",
              "        vertical-align: top;\n",
              "    }\n",
              "\n",
              "    .dataframe thead th {\n",
              "        text-align: right;\n",
              "    }\n",
              "</style>\n",
              "<table border=\"1\" class=\"dataframe\">\n",
              "  <thead>\n",
              "    <tr style=\"text-align: right;\">\n",
              "      <th></th>\n",
              "      <th>clf name</th>\n",
              "      <th>pos f1-score</th>\n",
              "      <th>pos precision</th>\n",
              "      <th>pos recall</th>\n",
              "      <th>neg f1-score</th>\n",
              "      <th>neg precision</th>\n",
              "      <th>neg recall</th>\n",
              "      <th>neu f1-score</th>\n",
              "      <th>neu precision</th>\n",
              "      <th>neu recall</th>\n",
              "    </tr>\n",
              "  </thead>\n",
              "  <tbody>\n",
              "    <tr>\n",
              "      <th>0</th>\n",
              "      <td>GaussianNB</td>\n",
              "      <td>0.992072</td>\n",
              "      <td>0.987970</td>\n",
              "      <td>0.996209</td>\n",
              "      <td>0.991357</td>\n",
              "      <td>0.990240</td>\n",
              "      <td>0.992476</td>\n",
              "      <td>0.985874</td>\n",
              "      <td>0.991031</td>\n",
              "      <td>0.980769</td>\n",
              "    </tr>\n",
              "    <tr>\n",
              "      <th>1</th>\n",
              "      <td>DecisionTreeClassifier profondeur 4</td>\n",
              "      <td>0.990555</td>\n",
              "      <td>0.987199</td>\n",
              "      <td>0.993935</td>\n",
              "      <td>0.989846</td>\n",
              "      <td>0.989474</td>\n",
              "      <td>0.990218</td>\n",
              "      <td>0.985152</td>\n",
              "      <td>0.988823</td>\n",
              "      <td>0.981509</td>\n",
              "    </tr>\n",
              "    <tr>\n",
              "      <th>2</th>\n",
              "      <td>DecisionTreeClassifier profondeur 8</td>\n",
              "      <td>0.991692</td>\n",
              "      <td>0.987961</td>\n",
              "      <td>0.995451</td>\n",
              "      <td>0.988705</td>\n",
              "      <td>0.989450</td>\n",
              "      <td>0.987961</td>\n",
              "      <td>0.985905</td>\n",
              "      <td>0.988839</td>\n",
              "      <td>0.982988</td>\n",
              "    </tr>\n",
              "    <tr>\n",
              "      <th>3</th>\n",
              "      <td>SVC kernel rbf</td>\n",
              "      <td>0.995825</td>\n",
              "      <td>0.996960</td>\n",
              "      <td>0.994693</td>\n",
              "      <td>0.993213</td>\n",
              "      <td>0.995465</td>\n",
              "      <td>0.990971</td>\n",
              "      <td>0.990048</td>\n",
              "      <td>0.986774</td>\n",
              "      <td>0.993343</td>\n",
              "    </tr>\n",
              "    <tr>\n",
              "      <th>4</th>\n",
              "      <td>MLPClassifier 1 couche cachée</td>\n",
              "      <td>0.995832</td>\n",
              "      <td>0.995455</td>\n",
              "      <td>0.996209</td>\n",
              "      <td>0.993592</td>\n",
              "      <td>0.995468</td>\n",
              "      <td>0.991723</td>\n",
              "      <td>0.991137</td>\n",
              "      <td>0.989676</td>\n",
              "      <td>0.992604</td>\n",
              "    </tr>\n",
              "    <tr>\n",
              "      <th>5</th>\n",
              "      <td>MLPClassifier 2 couches cachées</td>\n",
              "      <td>0.995455</td>\n",
              "      <td>0.994701</td>\n",
              "      <td>0.996209</td>\n",
              "      <td>0.991729</td>\n",
              "      <td>0.990984</td>\n",
              "      <td>0.992476</td>\n",
              "      <td>0.989630</td>\n",
              "      <td>0.991098</td>\n",
              "      <td>0.988166</td>\n",
              "    </tr>\n",
              "    <tr>\n",
              "      <th>6</th>\n",
              "      <td>MLPClassifier 5 couches cachées</td>\n",
              "      <td>0.995835</td>\n",
              "      <td>0.994705</td>\n",
              "      <td>0.996967</td>\n",
              "      <td>0.990598</td>\n",
              "      <td>0.990226</td>\n",
              "      <td>0.990971</td>\n",
              "      <td>0.989630</td>\n",
              "      <td>0.991098</td>\n",
              "      <td>0.988166</td>\n",
              "    </tr>\n",
              "  </tbody>\n",
              "</table>\n",
              "</div>"
            ],
            "text/plain": [
              "                              clf name  pos f1-score  ...  neu precision  neu recall\n",
              "0                           GaussianNB      0.992072  ...       0.991031    0.980769\n",
              "1  DecisionTreeClassifier profondeur 4      0.990555  ...       0.988823    0.981509\n",
              "2  DecisionTreeClassifier profondeur 8      0.991692  ...       0.988839    0.982988\n",
              "3                       SVC kernel rbf      0.995825  ...       0.986774    0.993343\n",
              "4        MLPClassifier 1 couche cachée      0.995832  ...       0.989676    0.992604\n",
              "5      MLPClassifier 2 couches cachées      0.995455  ...       0.991098    0.988166\n",
              "6      MLPClassifier 5 couches cachées      0.995835  ...       0.991098    0.988166\n",
              "\n",
              "[7 rows x 10 columns]"
            ]
          },
          "metadata": {
            "tags": []
          },
          "execution_count": 23
        }
      ]
    },
    {
      "cell_type": "markdown",
      "metadata": {
        "id": "swEKbOcQELKl",
        "colab_type": "text"
      },
      "source": [
        "Récapitulons:\n",
        "\n",
        "* On obtient des resultat correct en ne prennant que les 150 mots les plus important dans la classification Naive Bayes. Mais, comme attendu on n'égale pas les resultats de notre premier classifieur de bayes naif avec tout les mots (cf.Analyse_de_sentiment)\n",
        "\n",
        "* Ensuite on remarque qu'avec l'autoencodeur les resultat sont très mauvais.Une explication possible est que 150 est une dimension trop petite pour reduire convenablement, trop d'information serait perdue.\n",
        "\n",
        "* Pour finir, celui qui paraissait le plus adapté a notre probleme, utiliser l'avant dernière couche d'un reseau pré-entrainé à classer les tweets est le plus efficace. Cette reduction de dimension permet des resultats meillieurs qu'avec le premier classifieur (cf.Analyse_de_sentiment).\n",
        "\n",
        "Maintenant que tous nous avons des outils d'analyse récuperons des donnée twitter, voir le notebook recuperation_tweet."
      ]
    }
  ]
}